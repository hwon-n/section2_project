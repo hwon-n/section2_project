{
  "nbformat": 4,
  "nbformat_minor": 0,
  "metadata": {
    "colab": {
      "name": "section2_project.ipynb",
      "provenance": [],
      "collapsed_sections": [],
      "authorship_tag": "ABX9TyNYEl6TqyyWZS3ADuK+5p7H",
      "include_colab_link": true
    },
    "kernelspec": {
      "name": "python3",
      "display_name": "Python 3"
    },
    "language_info": {
      "name": "python"
    }
  },
  "cells": [
    {
      "cell_type": "markdown",
      "metadata": {
        "id": "view-in-github",
        "colab_type": "text"
      },
      "source": [
        "<a href=\"https://colab.research.google.com/github/hwon-n/section2_project/blob/main/section2_project.ipynb\" target=\"_parent\"><img src=\"https://colab.research.google.com/assets/colab-badge.svg\" alt=\"Open In Colab\"/></a>"
      ]
    },
    {
      "cell_type": "code",
      "metadata": {
        "id": "MARSNZS1DxA0"
      },
      "source": [
        "from google.colab import drive\n",
        "drive.mount('/content/drive')"
      ],
      "execution_count": null,
      "outputs": []
    },
    {
      "cell_type": "code",
      "metadata": {
        "id": "q6zThX7QSef5"
      },
      "source": [
        "!pip install -U pandas_profiling"
      ],
      "execution_count": null,
      "outputs": []
    },
    {
      "cell_type": "code",
      "metadata": {
        "id": "0w8BeqI389E4"
      },
      "source": [
        "!pip install category_encoders"
      ],
      "execution_count": null,
      "outputs": []
    },
    {
      "cell_type": "code",
      "metadata": {
        "id": "YWAjsqOs_Gef"
      },
      "source": [
        "import pandas as pd\n",
        "from sklearn.model_selection import train_test_split\n",
        "import pandas_profiling\n",
        "import matplotlib.pyplot as plt\n",
        "import seaborn as sns\n",
        "from sklearn.metrics import accuracy_score\n",
        "from sklearn.linear_model import LogisticRegression\n",
        "from category_encoders import OneHotEncoder, OrdinalEncoder, TargetEncoder\n",
        "from sklearn.impute import SimpleImputer\n",
        "from sklearn.preprocessing import StandardScaler"
      ],
      "execution_count": null,
      "outputs": []
    },
    {
      "cell_type": "code",
      "metadata": {
        "id": "7D-2B5Z5Mr9I"
      },
      "source": [
        "train = pd.read_csv('/content/drive/MyDrive/Training Data.csv')\n",
        "test = pd.read_csv('/content/drive/MyDrive/Test Data.csv')\n",
        "\n",
        "train.shape, test.shape"
      ],
      "execution_count": null,
      "outputs": []
    },
    {
      "cell_type": "code",
      "metadata": {
        "id": "YSbo5OomOeVa"
      },
      "source": [
        "train = train.sample(n = 60000, random_state = 42).reset_index(drop = True)\n",
        "train"
      ],
      "execution_count": null,
      "outputs": []
    },
    {
      "cell_type": "code",
      "metadata": {
        "id": "O118OLD5BjO2"
      },
      "source": [
        "test = test.sample(n = 10000, random_state = 42).reset_index(drop = True)\n",
        "test"
      ],
      "execution_count": null,
      "outputs": []
    },
    {
      "cell_type": "code",
      "metadata": {
        "id": "50GAblZcSZ9k"
      },
      "source": [
        "train.profile_report()"
      ],
      "execution_count": null,
      "outputs": []
    },
    {
      "cell_type": "code",
      "metadata": {
        "id": "q7RK9KhKTHpQ"
      },
      "source": [
        "# Logistic Regression model \n",
        "\n",
        "target = 'Risk_Flag'\n",
        "\n",
        "train, val = train_test_split(train, train_size = 0.8, random_state = 42)\n",
        "train.shape, val.shape"
      ],
      "execution_count": null,
      "outputs": []
    },
    {
      "cell_type": "code",
      "metadata": {
        "id": "muQKBKVQFNmt"
      },
      "source": [
        "# baseline 설정\n",
        "value = train['Risk_Flag'].value_counts(normalize = True)\n",
        "value[0]"
      ],
      "execution_count": null,
      "outputs": []
    },
    {
      "cell_type": "code",
      "metadata": {
        "id": "WPoyerlV9ZR1"
      },
      "source": [
        "%matplotlib inline\n",
        "ax = sns.countplot(data = train, x = target)\n",
        "for i in range(value[0]):\n",
        "  ax.test(x = i, y = value[i], s = value[i], horizontalalignment = 'center')\n",
        "plt.show()"
      ],
      "execution_count": null,
      "outputs": []
    },
    {
      "cell_type": "code",
      "metadata": {
        "id": "g2WEGa7xUH8v"
      },
      "source": [
        ""
      ],
      "execution_count": null,
      "outputs": []
    }
  ]
}